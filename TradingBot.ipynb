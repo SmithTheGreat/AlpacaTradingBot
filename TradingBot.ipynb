!pip install alpaca-py;
from alpaca.trading.client import TradingClient;
from alpaca.trading.requests import MarketOrderRequest, GetOrdersRequest;
from alpaca.trading.enums import OrderSide, TimeInForce, QueryOrderStatus;
from alpaca.data.live import StockDataStream;
trading_client = TradingClient("PKJ76CJYBU6I8GP1S4WT","ONRf25FhaLlkk7cwVdb9zp26xJGqIo3wfHjLsN0C");
print(trading_client.get_account().account_number); # account number
market_order_data = MarketOrderRequest("SPY",1,OrderSide.BUY,TimeInForce.DAY,2.00); # buying orders
request_params = GetOrdersRequest(QueryOrderStatus.OPEN);
orders = trading_client.get_orders(request_params)

for order in orders :
  trading_client.cancel_order_by_id(order.id); # cancelling orders

positions = trading_client.get_all_positions(); # gives all positions in the account

for position in positions:
  print(position.symbol, position.current_price);

trading_client.close_all_positions(True); # liquidates all positions

async def handle_quote(data) : # streaming live quotes
  print(data);
stream.subscribe_quotes(handle_quote, "AAPL");

stream.run();

# getting historical trade data
from alpaca.data import StockHistoricalDataClient, StockTradesRequest;
from datetime import datetime;
data_client = StockHistoricalDataClient("PKJ76CJYBU6I8GP1S4WT","ONRf25FhaLlkk7cwVdb9zp26xJGqIo3wfHjLsN0C");
request_params  = StockTradesRequest(symbol_or_symbols="AAPL",start = datetime(2024,11,19,14,30), end= datetime(2024,11,19,14,31))
trades = data_client.get_stock_trades(request_params)
print(trades)
